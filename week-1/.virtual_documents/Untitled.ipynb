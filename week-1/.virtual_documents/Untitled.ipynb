import pandas as pd


pd.__version__


df = pd.read_parquet('https://d37ci6vzurychx.cloudfront.net/trip-data/yellow_tripdata_2024-01.parquet')



