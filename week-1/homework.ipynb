{
 "cells": [
  {
   "cell_type": "code",
   "execution_count": 3,
   "id": "ee1e4997-dc77-4f78-8872-f46c8c9c48dd",
   "metadata": {},
   "outputs": [],
   "source": [
    "import pandas as pd\n",
    "import seaborn as sns\n",
    "import matplotlib.pyplot as plt\n",
    "from sklearn.feature_extraction import DictVectorizer\n",
    "from sklearn.linear_model import LinearRegression\n",
    "from sklearn.metrics import mean_squared_error"
   ]
  },
  {
   "cell_type": "markdown",
   "id": "6d04b3cc-3de2-430e-8a35-226f04661be9",
   "metadata": {},
   "source": [
    "# Q1. Downloading the data"
   ]
  },
  {
   "cell_type": "code",
   "execution_count": 4,
   "id": "631378aa-f456-484a-8224-ce40459a22bf",
   "metadata": {
    "scrolled": true
   },
   "outputs": [],
   "source": [
    "df_train = pd.read_parquet('https://d37ci6vzurychx.cloudfront.net/trip-data/yellow_tripdata_2023-01.parquet')"
   ]
  },
  {
   "cell_type": "code",
   "execution_count": 5,
   "id": "fd8dacae-b999-4eeb-812e-2953f8b935d7",
   "metadata": {},
   "outputs": [],
   "source": [
    "df_val = pd.read_parquet('https://d37ci6vzurychx.cloudfront.net/trip-data/yellow_tripdata_2023-02.parquet')"
   ]
  },
  {
   "cell_type": "code",
   "execution_count": 10,
   "id": "dc393f41-ac29-4c53-96bc-a8fe3966fcb8",
   "metadata": {},
   "outputs": [
    {
     "data": {
      "text/plain": [
       "19"
      ]
     },
     "execution_count": 10,
     "metadata": {},
     "output_type": "execute_result"
    }
   ],
   "source": [
    "len(df_train.columns)"
   ]
  },
  {
   "cell_type": "markdown",
   "id": "ed5a8362-3730-4717-8a11-e32c8c314953",
   "metadata": {},
   "source": [
    "# Q2. Computing duration"
   ]
  },
  {
   "cell_type": "code",
   "execution_count": 13,
   "id": "5cb49948-8d16-40f1-b3e9-97b18b84d263",
   "metadata": {},
   "outputs": [],
   "source": [
    "df_train.tpep_dropoff_datetime = pd.to_datetime(df_train.tpep_dropoff_datetime)\n",
    "df_train.tpep_pickup_datetime = pd.to_datetime(df_train.tpep_pickup_datetime)\n",
    "\n",
    "df_train['duration'] = df_train.tpep_dropoff_datetime - df_train.tpep_pickup_datetime\n",
    "df_train.duration = df_train.duration.apply(lambda td: td.total_seconds()/60)"
   ]
  },
  {
   "cell_type": "code",
   "execution_count": 15,
   "id": "0b6914b3-a0ee-42c3-9694-05e95214e2e4",
   "metadata": {},
   "outputs": [
    {
     "data": {
      "text/plain": [
       "count    3.066766e+06\n",
       "mean     1.566900e+01\n",
       "std      4.259435e+01\n",
       "min     -2.920000e+01\n",
       "25%      7.116667e+00\n",
       "50%      1.151667e+01\n",
       "75%      1.830000e+01\n",
       "max      1.002918e+04\n",
       "Name: duration, dtype: float64"
      ]
     },
     "execution_count": 15,
     "metadata": {},
     "output_type": "execute_result"
    }
   ],
   "source": [
    "df_train.duration.describe()"
   ]
  },
  {
   "cell_type": "markdown",
   "id": "80d2b2ad-f8e6-4d62-8d3c-5227eac7a4c5",
   "metadata": {},
   "source": [
    "# Q3. Dropping Outliers"
   ]
  },
  {
   "cell_type": "code",
   "execution_count": 16,
   "id": "a1060b28-d8d5-4aa4-af16-9372e2b05ab7",
   "metadata": {},
   "outputs": [
    {
     "data": {
      "text/plain": [
       "0.9812202822125979"
      ]
     },
     "execution_count": 16,
     "metadata": {},
     "output_type": "execute_result"
    }
   ],
   "source": [
    "((df_train.duration >= 1) & (df_train.duration <= 60)).mean()"
   ]
  },
  {
   "cell_type": "markdown",
   "id": "06eb6c1a-bccf-4ea1-8e3b-5c8b4eeb879d",
   "metadata": {},
   "source": [
    "# Q4. One-hot encoding"
   ]
  },
  {
   "cell_type": "code",
   "execution_count": 18,
   "id": "10763663-05bf-4117-a544-438a8323f891",
   "metadata": {},
   "outputs": [],
   "source": [
    "df_train = df_train[(df_train.duration >= 1) & (df_train.duration <= 60)]"
   ]
  },
  {
   "cell_type": "code",
   "execution_count": 19,
   "id": "7f14eab3-601b-4065-b98f-387eba174988",
   "metadata": {},
   "outputs": [],
   "source": [
    "categorical = ['PULocationID', 'DOLocationID']"
   ]
  },
  {
   "cell_type": "code",
   "execution_count": null,
   "id": "1d1f0c95-d02e-4233-86d5-fe15b7536e32",
   "metadata": {
    "tags": []
   },
   "outputs": [],
   "source": [
    "df_train[categorical] = df_train[categorical].astype(str)"
   ]
  },
  {
   "cell_type": "code",
   "execution_count": 21,
   "id": "4f1636ad-6292-4d6a-9ef4-eee8d6cdb7a8",
   "metadata": {},
   "outputs": [],
   "source": [
    "train_dicts = df_train[categorical].to_dict(orient='records')"
   ]
  },
  {
   "cell_type": "code",
   "execution_count": 22,
   "id": "07e88b4b-d920-4aba-b90b-29b27cafe633",
   "metadata": {},
   "outputs": [],
   "source": [
    "dv = DictVectorizer()\n",
    "x_train = dv.fit_transform(train_dicts)"
   ]
  },
  {
   "cell_type": "code",
   "execution_count": 23,
   "id": "e20281cd-0012-4f65-b783-c8702529ef87",
   "metadata": {},
   "outputs": [
    {
     "name": "stdout",
     "output_type": "stream",
     "text": [
      "515\n"
     ]
    }
   ],
   "source": [
    "print(len(dv.feature_names_))"
   ]
  },
  {
   "cell_type": "markdown",
   "id": "b5a477fc-0982-4e6c-ae36-af7fc82e3e80",
   "metadata": {},
   "source": [
    "# Q5. Training a model"
   ]
  },
  {
   "cell_type": "code",
   "execution_count": 25,
   "id": "c8790701-638d-4a97-b205-60a2e457032a",
   "metadata": {},
   "outputs": [
    {
     "data": {
      "text/plain": [
       "7.6492610279057605"
      ]
     },
     "execution_count": 25,
     "metadata": {},
     "output_type": "execute_result"
    }
   ],
   "source": [
    "target = 'duration'\n",
    "y_train = df_train[target].values\n",
    "\n",
    "lr = LinearRegression()\n",
    "lr.fit(x_train,y_train)\n",
    "\n",
    "y_pred = lr.predict(x_train)\n",
    "\n",
    "mean_squared_error(y_train,y_pred, squared=False)"
   ]
  },
  {
   "cell_type": "markdown",
   "id": "dac80cef-038c-4e77-a1f7-7e4d5e7fec53",
   "metadata": {},
   "source": [
    "# Q6. Evaluating the model"
   ]
  },
  {
   "cell_type": "code",
   "execution_count": 27,
   "id": "f41223ed-c658-4882-a642-ab66276dc01f",
   "metadata": {},
   "outputs": [],
   "source": [
    "df_val.tpep_dropoff_datetime = pd.to_datetime(df_val.tpep_dropoff_datetime)\n",
    "df_val.tpep_pickup_datetime = pd.to_datetime(df_val.tpep_pickup_datetime)\n",
    "\n",
    "df_val['duration'] = df_val.tpep_dropoff_datetime - df_val.tpep_pickup_datetime\n",
    "df_val.duration = df_val.duration.apply(lambda td: td.total_seconds()/60)\n",
    "\n",
    "df_val = df_val[(df_val.duration >= 1) & (df_val.duration <= 60)]\n",
    "\n",
    "df_val[categorical] = df_val[categorical].astype(str)"
   ]
  },
  {
   "cell_type": "code",
   "execution_count": 28,
   "id": "1be261a9-1efb-4ae8-9f3d-4d536c2f17ff",
   "metadata": {},
   "outputs": [
    {
     "data": {
      "text/plain": [
       "7.81183265470218"
      ]
     },
     "execution_count": 28,
     "metadata": {},
     "output_type": "execute_result"
    }
   ],
   "source": [
    "val_dicts = df_val[categorical].to_dict(orient='records')\n",
    "x_val = dv.transform(val_dicts)\n",
    "y_val = df_val[target].values\n",
    "\n",
    "y_pred = lr.predict(x_val)\n",
    "mean_squared_error(y_val,y_pred, squared=False)"
   ]
  }
 ],
 "metadata": {
  "kernelspec": {
   "display_name": "Python 3 (ipykernel)",
   "language": "python",
   "name": "python3"
  },
  "language_info": {
   "codemirror_mode": {
    "name": "ipython",
    "version": 3
   },
   "file_extension": ".py",
   "mimetype": "text/x-python",
   "name": "python",
   "nbconvert_exporter": "python",
   "pygments_lexer": "ipython3",
   "version": "3.9.12"
  }
 },
 "nbformat": 4,
 "nbformat_minor": 5
}
